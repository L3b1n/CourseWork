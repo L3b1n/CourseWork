{
 "cells": [
  {
   "cell_type": "code",
   "execution_count": 1,
   "id": "8791f94d-26f1-44b0-bbe0-ed0fd60aee98",
   "metadata": {},
   "outputs": [],
   "source": [
    "import tensorflow as tf\n",
    "from keras_cv_attention_models import model_surgery"
   ]
  },
  {
   "cell_type": "code",
   "execution_count": 2,
   "id": "961b93af-89ab-48ff-9fa5-2bae2272ec34",
   "metadata": {},
   "outputs": [],
   "source": [
    "model = tf.keras.models.load_model('ridnet.h5', compile=False)"
   ]
  },
  {
   "cell_type": "code",
   "execution_count": 3,
   "id": "d1e91f8d-c4ed-41b9-8394-4a31282d8d6f",
   "metadata": {},
   "outputs": [],
   "source": [
    "new_width = 1280\n",
    "new_height = 720"
   ]
  },
  {
   "cell_type": "code",
   "execution_count": 4,
   "id": "e581b56b-74ed-4086-bf92-7229116b7eea",
   "metadata": {},
   "outputs": [
    {
     "name": "stdout",
     "output_type": "stream",
     "text": [
      ">>>> Changed model input shape from (None, 40, 40, 3) to (None, 720, 1280, 3)\n"
     ]
    }
   ],
   "source": [
    "model2 = model_surgery.change_model_input_shape(model, (new_height, new_width, 3))"
   ]
  },
  {
   "cell_type": "code",
   "execution_count": 5,
   "id": "4ae57c17-470d-4557-9ee7-f11517828ac1",
   "metadata": {},
   "outputs": [],
   "source": [
    "model2.set_weights(model.get_weights())"
   ]
  },
  {
   "cell_type": "code",
   "execution_count": 6,
   "id": "0055b6ba-7b11-4624-be0f-20e85a82c58e",
   "metadata": {},
   "outputs": [],
   "source": [
    "concrete = tf.function(lambda inputs: model2(inputs))\n",
    "concrete_func = concrete.get_concrete_function(\n",
    "        [tf.TensorSpec([1, *t.shape[1:]]) for t in model2.inputs])"
   ]
  },
  {
   "cell_type": "code",
   "execution_count": 7,
   "id": "b55d26d4-3348-43d4-8e57-6abf9ba88689",
   "metadata": {},
   "outputs": [
    {
     "name": "stderr",
     "output_type": "stream",
     "text": [
      "WARNING:absl:Please consider providing the trackable_obj argument in the from_concrete_functions. Providing without the trackable_obj argument is deprecated and it will use the deprecated conversion path.\n"
     ]
    }
   ],
   "source": [
    "converter = tf.lite.TFLiteConverter.from_concrete_functions([concrete_func])\n",
    "tflite_model = converter.convert()\n",
    "with open(f'ridnet_{new_width}_{new_height}.tflite', 'wb') as fout:\n",
    "    fout.write(tflite_model)"
   ]
  }
 ],
 "metadata": {
  "kernelspec": {
   "display_name": "Python [conda env:bnb3]",
   "language": "python",
   "name": "conda-env-bnb3-py"
  },
  "language_info": {
   "codemirror_mode": {
    "name": "ipython",
    "version": 3
   },
   "file_extension": ".py",
   "mimetype": "text/x-python",
   "name": "python",
   "nbconvert_exporter": "python",
   "pygments_lexer": "ipython3",
   "version": "3.9.16"
  }
 },
 "nbformat": 4,
 "nbformat_minor": 5
}
