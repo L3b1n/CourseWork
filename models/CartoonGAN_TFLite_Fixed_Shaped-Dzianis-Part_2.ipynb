{
 "cells": [
  {
   "cell_type": "markdown",
   "metadata": {
    "colab_type": "text",
    "id": "view-in-github"
   },
   "source": [
    "<a href=\"https://colab.research.google.com/github/margaretmz/cartoonizer-with-tflite/blob/master/ml/CartoonGAN_TFLite_Fixed_Shaped.ipynb\" target=\"_parent\"><img src=\"https://colab.research.google.com/assets/colab-badge.svg\" alt=\"Open In Colab\"/></a>"
   ]
  },
  {
   "cell_type": "code",
   "execution_count": 1,
   "metadata": {},
   "outputs": [],
   "source": [
    "HEIGHT = 540\n",
    "WIDTH = 960"
   ]
  },
  {
   "cell_type": "code",
   "execution_count": 2,
   "metadata": {},
   "outputs": [],
   "source": [
    "from os import environ\n",
    "\n",
    "environ['CUDA_VISIBLE_DEVICES'] = ''"
   ]
  },
  {
   "cell_type": "code",
   "execution_count": 3,
   "metadata": {},
   "outputs": [
    {
     "data": {
      "text/plain": [
       "'2.12.0'"
      ]
     },
     "execution_count": 3,
     "metadata": {},
     "output_type": "execute_result"
    }
   ],
   "source": [
    "import tensorflow as tf\n",
    "\n",
    "tf.__version__"
   ]
  },
  {
   "cell_type": "code",
   "execution_count": 4,
   "metadata": {},
   "outputs": [],
   "source": [
    "from tensorflow import lite"
   ]
  },
  {
   "cell_type": "code",
   "execution_count": 5,
   "metadata": {},
   "outputs": [
    {
     "name": "stdout",
     "output_type": "stream",
     "text": [
      "WARNING:tensorflow:Unable to create a python object for variable <tf.Variable 'generator/Conv/weights:0' shape=(7, 7, 3, 32) dtype=float32_ref> because it is a reference variable. It may not be visible to training APIs. If this is a problem, consider rebuilding the SavedModel after running tf.compat.v1.enable_resource_variables().\n",
      "WARNING:tensorflow:Unable to create a python object for variable <tf.Variable 'generator/Conv/biases:0' shape=(32,) dtype=float32_ref> because it is a reference variable. It may not be visible to training APIs. If this is a problem, consider rebuilding the SavedModel after running tf.compat.v1.enable_resource_variables().\n",
      "WARNING:tensorflow:Unable to create a python object for variable <tf.Variable 'generator/Conv_1/weights:0' shape=(3, 3, 32, 32) dtype=float32_ref> because it is a reference variable. It may not be visible to training APIs. If this is a problem, consider rebuilding the SavedModel after running tf.compat.v1.enable_resource_variables().\n",
      "WARNING:tensorflow:Unable to create a python object for variable <tf.Variable 'generator/Conv_1/biases:0' shape=(32,) dtype=float32_ref> because it is a reference variable. It may not be visible to training APIs. If this is a problem, consider rebuilding the SavedModel after running tf.compat.v1.enable_resource_variables().\n",
      "WARNING:tensorflow:Unable to create a python object for variable <tf.Variable 'generator/Conv_2/weights:0' shape=(3, 3, 32, 64) dtype=float32_ref> because it is a reference variable. It may not be visible to training APIs. If this is a problem, consider rebuilding the SavedModel after running tf.compat.v1.enable_resource_variables().\n",
      "WARNING:tensorflow:Unable to create a python object for variable <tf.Variable 'generator/Conv/weights:0' shape=(7, 7, 3, 32) dtype=float32_ref> because it is a reference variable. It may not be visible to training APIs. If this is a problem, consider rebuilding the SavedModel after running tf.compat.v1.enable_resource_variables().\n",
      "WARNING:tensorflow:Unable to create a python object for variable <tf.Variable 'generator/Conv/biases:0' shape=(32,) dtype=float32_ref> because it is a reference variable. It may not be visible to training APIs. If this is a problem, consider rebuilding the SavedModel after running tf.compat.v1.enable_resource_variables().\n",
      "WARNING:tensorflow:Unable to create a python object for variable <tf.Variable 'generator/Conv_1/weights:0' shape=(3, 3, 32, 32) dtype=float32_ref> because it is a reference variable. It may not be visible to training APIs. If this is a problem, consider rebuilding the SavedModel after running tf.compat.v1.enable_resource_variables().\n",
      "WARNING:tensorflow:Unable to create a python object for variable <tf.Variable 'generator/Conv_1/biases:0' shape=(32,) dtype=float32_ref> because it is a reference variable. It may not be visible to training APIs. If this is a problem, consider rebuilding the SavedModel after running tf.compat.v1.enable_resource_variables().\n",
      "WARNING:tensorflow:Unable to create a python object for variable <tf.Variable 'generator/Conv_2/weights:0' shape=(3, 3, 32, 64) dtype=float32_ref> because it is a reference variable. It may not be visible to training APIs. If this is a problem, consider rebuilding the SavedModel after running tf.compat.v1.enable_resource_variables().\n",
      "WARNING:tensorflow:Unable to create a python object for variable <tf.Variable 'generator/Conv/weights:0' shape=(7, 7, 3, 32) dtype=float32_ref> because it is a reference variable. It may not be visible to training APIs. If this is a problem, consider rebuilding the SavedModel after running tf.compat.v1.enable_resource_variables().\n",
      "WARNING:tensorflow:Unable to create a python object for variable <tf.Variable 'generator/Conv/biases:0' shape=(32,) dtype=float32_ref> because it is a reference variable. It may not be visible to training APIs. If this is a problem, consider rebuilding the SavedModel after running tf.compat.v1.enable_resource_variables().\n",
      "WARNING:tensorflow:Unable to create a python object for variable <tf.Variable 'generator/Conv_1/weights:0' shape=(3, 3, 32, 32) dtype=float32_ref> because it is a reference variable. It may not be visible to training APIs. If this is a problem, consider rebuilding the SavedModel after running tf.compat.v1.enable_resource_variables().\n",
      "WARNING:tensorflow:Unable to create a python object for variable <tf.Variable 'generator/Conv_1/biases:0' shape=(32,) dtype=float32_ref> because it is a reference variable. It may not be visible to training APIs. If this is a problem, consider rebuilding the SavedModel after running tf.compat.v1.enable_resource_variables().\n",
      "WARNING:tensorflow:Unable to create a python object for variable <tf.Variable 'generator/Conv_2/weights:0' shape=(3, 3, 32, 64) dtype=float32_ref> because it is a reference variable. It may not be visible to training APIs. If this is a problem, consider rebuilding the SavedModel after running tf.compat.v1.enable_resource_variables().\n"
     ]
    },
    {
     "name": "stderr",
     "output_type": "stream",
     "text": [
      "2024-12-04 14:32:10.089245: E tensorflow/compiler/xla/stream_executor/cuda/cuda_driver.cc:266] failed call to cuInit: CUDA_ERROR_NO_DEVICE: no CUDA-capable device is detected\n"
     ]
    },
    {
     "name": "stdout",
     "output_type": "stream",
     "text": [
      "WARNING:tensorflow:Unable to create a python object for variable <tf.Variable 'generator/Conv/weights:0' shape=(7, 7, 3, 32) dtype=float32_ref> because it is a reference variable. It may not be visible to training APIs. If this is a problem, consider rebuilding the SavedModel after running tf.compat.v1.enable_resource_variables().\n",
      "WARNING:tensorflow:Unable to create a python object for variable <tf.Variable 'generator/Conv/biases:0' shape=(32,) dtype=float32_ref> because it is a reference variable. It may not be visible to training APIs. If this is a problem, consider rebuilding the SavedModel after running tf.compat.v1.enable_resource_variables().\n",
      "WARNING:tensorflow:Unable to create a python object for variable <tf.Variable 'generator/Conv_1/weights:0' shape=(3, 3, 32, 32) dtype=float32_ref> because it is a reference variable. It may not be visible to training APIs. If this is a problem, consider rebuilding the SavedModel after running tf.compat.v1.enable_resource_variables().\n",
      "WARNING:tensorflow:Unable to create a python object for variable <tf.Variable 'generator/Conv_1/biases:0' shape=(32,) dtype=float32_ref> because it is a reference variable. It may not be visible to training APIs. If this is a problem, consider rebuilding the SavedModel after running tf.compat.v1.enable_resource_variables().\n",
      "WARNING:tensorflow:Unable to create a python object for variable <tf.Variable 'generator/Conv_2/weights:0' shape=(3, 3, 32, 64) dtype=float32_ref> because it is a reference variable. It may not be visible to training APIs. If this is a problem, consider rebuilding the SavedModel after running tf.compat.v1.enable_resource_variables().\n"
     ]
    }
   ],
   "source": [
    "model = tf.saved_model.load('saved_model_dir')\n",
    "concrete_func = model.signatures[\n",
    "    tf.saved_model.DEFAULT_SERVING_SIGNATURE_DEF_KEY]\n",
    "concrete_func.inputs[0].set_shape([1, HEIGHT, WIDTH, 3])"
   ]
  },
  {
   "cell_type": "code",
   "execution_count": 6,
   "metadata": {},
   "outputs": [],
   "source": [
    "# import cv2\n",
    "# import numpy as np\n",
    "# import glob\n",
    "\n",
    "# images_list = glob.glob('...')\n",
    "\n",
    "# np.random.shuffle(images_list)\n",
    "\n",
    "# # images_list = images_list[:100]\n",
    "\n",
    "# import numpy as np\n",
    "\n",
    "# # int8 quantization requires a representative dataset generator\n",
    "# def representative_dataset_gen():\n",
    "#     for i, image_path in enumerate(images_list, 1):\n",
    "#         if i % 10 == 0:\n",
    "#             print(\"i=\", i)\n",
    "        \n",
    "#         image = cv2.imread(image_path, cv2.IMREAD_COLOR)\n",
    "#         image = cv2.resize(image, (WIDTH, HEIGHT))\n",
    "#         image = image.astype(np.float32)/127.5 - 1\n",
    "#         image = np.expand_dims(image, axis=0)\n",
    "#         yield [image]"
   ]
  },
  {
   "cell_type": "code",
   "execution_count": 7,
   "metadata": {},
   "outputs": [
    {
     "name": "stderr",
     "output_type": "stream",
     "text": [
      "WARNING:absl:Please consider providing the trackable_obj argument in the from_concrete_functions. Providing without the trackable_obj argument is deprecated and it will use the deprecated conversion path.\n"
     ]
    },
    {
     "name": "stdout",
     "output_type": "stream",
     "text": [
      "WARNING:tensorflow:Unable to create a python object for variable <tf.Variable 'generator/Conv/weights:0' shape=(7, 7, 3, 32) dtype=float32_ref> because it is a reference variable. It may not be visible to training APIs. If this is a problem, consider rebuilding the SavedModel after running tf.compat.v1.enable_resource_variables().\n"
     ]
    },
    {
     "name": "stderr",
     "output_type": "stream",
     "text": [
      "WARNING:tensorflow:Unable to create a python object for variable <tf.Variable 'generator/Conv/weights:0' shape=(7, 7, 3, 32) dtype=float32_ref> because it is a reference variable. It may not be visible to training APIs. If this is a problem, consider rebuilding the SavedModel after running tf.compat.v1.enable_resource_variables().\n"
     ]
    },
    {
     "name": "stdout",
     "output_type": "stream",
     "text": [
      "WARNING:tensorflow:Unable to create a python object for variable <tf.Variable 'generator/Conv/biases:0' shape=(32,) dtype=float32_ref> because it is a reference variable. It may not be visible to training APIs. If this is a problem, consider rebuilding the SavedModel after running tf.compat.v1.enable_resource_variables().\n"
     ]
    },
    {
     "name": "stderr",
     "output_type": "stream",
     "text": [
      "WARNING:tensorflow:Unable to create a python object for variable <tf.Variable 'generator/Conv/biases:0' shape=(32,) dtype=float32_ref> because it is a reference variable. It may not be visible to training APIs. If this is a problem, consider rebuilding the SavedModel after running tf.compat.v1.enable_resource_variables().\n"
     ]
    },
    {
     "name": "stdout",
     "output_type": "stream",
     "text": [
      "WARNING:tensorflow:Unable to create a python object for variable <tf.Variable 'generator/Conv_1/weights:0' shape=(3, 3, 32, 32) dtype=float32_ref> because it is a reference variable. It may not be visible to training APIs. If this is a problem, consider rebuilding the SavedModel after running tf.compat.v1.enable_resource_variables().\n"
     ]
    },
    {
     "name": "stderr",
     "output_type": "stream",
     "text": [
      "WARNING:tensorflow:Unable to create a python object for variable <tf.Variable 'generator/Conv_1/weights:0' shape=(3, 3, 32, 32) dtype=float32_ref> because it is a reference variable. It may not be visible to training APIs. If this is a problem, consider rebuilding the SavedModel after running tf.compat.v1.enable_resource_variables().\n"
     ]
    },
    {
     "name": "stdout",
     "output_type": "stream",
     "text": [
      "WARNING:tensorflow:Unable to create a python object for variable <tf.Variable 'generator/Conv_1/biases:0' shape=(32,) dtype=float32_ref> because it is a reference variable. It may not be visible to training APIs. If this is a problem, consider rebuilding the SavedModel after running tf.compat.v1.enable_resource_variables().\n"
     ]
    },
    {
     "name": "stderr",
     "output_type": "stream",
     "text": [
      "WARNING:tensorflow:Unable to create a python object for variable <tf.Variable 'generator/Conv_1/biases:0' shape=(32,) dtype=float32_ref> because it is a reference variable. It may not be visible to training APIs. If this is a problem, consider rebuilding the SavedModel after running tf.compat.v1.enable_resource_variables().\n"
     ]
    },
    {
     "name": "stdout",
     "output_type": "stream",
     "text": [
      "WARNING:tensorflow:Unable to create a python object for variable <tf.Variable 'generator/Conv_2/weights:0' shape=(3, 3, 32, 64) dtype=float32_ref> because it is a reference variable. It may not be visible to training APIs. If this is a problem, consider rebuilding the SavedModel after running tf.compat.v1.enable_resource_variables().\n"
     ]
    },
    {
     "name": "stderr",
     "output_type": "stream",
     "text": [
      "WARNING:tensorflow:Unable to create a python object for variable <tf.Variable 'generator/Conv_2/weights:0' shape=(3, 3, 32, 64) dtype=float32_ref> because it is a reference variable. It may not be visible to training APIs. If this is a problem, consider rebuilding the SavedModel after running tf.compat.v1.enable_resource_variables().\n"
     ]
    },
    {
     "data": {
      "text/plain": [
       "3990968"
      ]
     },
     "execution_count": 7,
     "metadata": {},
     "output_type": "execute_result"
    }
   ],
   "source": [
    "converter = tf.lite.TFLiteConverter.from_concrete_functions([concrete_func])\n",
    "\n",
    "converter.experimental_new_converter = True\n",
    "\n",
    "converter.optimizations = [tf.lite.Optimize.DEFAULT]\n",
    "# converter.target_spec.supported_types = [tf.int8]\n",
    "# converter.representative_dataset = representative_dataset_gen\n",
    "converter.target_spec.supported_types = [tf.float16]\n",
    "converter.target_spec.supported_ops = [tf.lite.OpsSet.TFLITE_BUILTINS]\n",
    "tflite_model = converter.convert()\n",
    "\n",
    "# open('whitebox_cartoon_gan_640x360_int8.tflite', 'wb').write(tflite_model)\n",
    "open(f'whitebox_cartoon_gan_{HEIGHT}x{WIDTH}_fp16.tflite', 'wb').write(tflite_model)"
   ]
  },
  {
   "cell_type": "code",
   "execution_count": 8,
   "metadata": {},
   "outputs": [],
   "source": [
    "import tflite_flops"
   ]
  },
  {
   "cell_type": "code",
   "execution_count": 10,
   "metadata": {},
   "outputs": [
    {
     "name": "stdout",
     "output_type": "stream",
     "text": [
      "OP_NAME            | M FLOPS\n",
      "------------------------------\n",
      "DEQUANTIZE         | <IGNORED>\n",
      "DEQUANTIZE         | <IGNORED>\n",
      "DEQUANTIZE         | <IGNORED>\n",
      "DEQUANTIZE         | <IGNORED>\n",
      "DEQUANTIZE         | <IGNORED>\n",
      "DEQUANTIZE         | <IGNORED>\n",
      "DEQUANTIZE         | <IGNORED>\n",
      "DEQUANTIZE         | <IGNORED>\n",
      "DEQUANTIZE         | <IGNORED>\n",
      "DEQUANTIZE         | <IGNORED>\n",
      "DEQUANTIZE         | <IGNORED>\n",
      "DEQUANTIZE         | <IGNORED>\n",
      "DEQUANTIZE         | <IGNORED>\n",
      "DEQUANTIZE         | <IGNORED>\n",
      "DEQUANTIZE         | <IGNORED>\n",
      "DEQUANTIZE         | <IGNORED>\n",
      "DEQUANTIZE         | <IGNORED>\n",
      "DEQUANTIZE         | <IGNORED>\n",
      "DEQUANTIZE         | <IGNORED>\n",
      "DEQUANTIZE         | <IGNORED>\n",
      "DEQUANTIZE         | <IGNORED>\n",
      "DEQUANTIZE         | <IGNORED>\n",
      "DEQUANTIZE         | <IGNORED>\n",
      "DEQUANTIZE         | <IGNORED>\n",
      "DEQUANTIZE         | <IGNORED>\n",
      "DEQUANTIZE         | <IGNORED>\n",
      "DEQUANTIZE         | <IGNORED>\n",
      "DEQUANTIZE         | <IGNORED>\n",
      "DEQUANTIZE         | <IGNORED>\n",
      "DEQUANTIZE         | <IGNORED>\n",
      "DEQUANTIZE         | <IGNORED>\n",
      "DEQUANTIZE         | <IGNORED>\n",
      "DEQUANTIZE         | <IGNORED>\n",
      "DEQUANTIZE         | <IGNORED>\n",
      "DEQUANTIZE         | <IGNORED>\n",
      "DEQUANTIZE         | <IGNORED>\n",
      "DEQUANTIZE         | <IGNORED>\n",
      "DEQUANTIZE         | <IGNORED>\n",
      "DEQUANTIZE         | <IGNORED>\n",
      "DEQUANTIZE         | <IGNORED>\n",
      "DEPTHWISE_CONV_2D  | 28.0\n",
      "CONV_2D            | 4877.1\n",
      "LEAKY_RELU         | <IGNORED>\n",
      "CONV_2D            | 2388.8\n",
      "LEAKY_RELU         | <IGNORED>\n",
      "CONV_2D            | 4777.6\n",
      "LEAKY_RELU         | <IGNORED>\n",
      "CONV_2D            | 2388.8\n",
      "LEAKY_RELU         | <IGNORED>\n",
      "CONV_2D            | 4777.6\n",
      "LEAKY_RELU         | <IGNORED>\n",
      "CONV_2D            | 9555.1\n",
      "LEAKY_RELU         | <IGNORED>\n",
      "CONV_2D            | 9555.1\n",
      "ADD                | <IGNORED>\n",
      "CONV_2D            | 9555.1\n",
      "LEAKY_RELU         | <IGNORED>\n",
      "CONV_2D            | 9555.1\n",
      "ADD                | <IGNORED>\n",
      "CONV_2D            | 9555.1\n",
      "LEAKY_RELU         | <IGNORED>\n",
      "CONV_2D            | 9555.1\n",
      "ADD                | <IGNORED>\n",
      "CONV_2D            | 9555.1\n",
      "LEAKY_RELU         | <IGNORED>\n",
      "CONV_2D            | 9555.1\n",
      "ADD                | <IGNORED>\n",
      "CONV_2D            | 4777.6\n",
      "LEAKY_RELU         | <IGNORED>\n",
      "RESIZE_BILINEAR    | <IGNORED>\n",
      "ADD                | <IGNORED>\n",
      "CONV_2D            | 9555.1\n",
      "LEAKY_RELU         | <IGNORED>\n",
      "CONV_2D            | 4777.6\n",
      "LEAKY_RELU         | <IGNORED>\n",
      "RESIZE_BILINEAR    | <IGNORED>\n",
      "ADD                | <IGNORED>\n",
      "CONV_2D            | 9555.1\n",
      "LEAKY_RELU         | <IGNORED>\n",
      "CONV_2D            | 4877.1\n",
      "DEPTHWISE_CONV_2D  | 28.0\n",
      "MUL                | <IGNORED>\n",
      "DEPTHWISE_CONV_2D  | 28.0\n",
      "MUL                | <IGNORED>\n",
      "DEPTHWISE_CONV_2D  | 28.0\n",
      "MUL                | <IGNORED>\n",
      "MUL                | <IGNORED>\n",
      "MUL                | <IGNORED>\n",
      "MUL                | <IGNORED>\n",
      "MUL                | <IGNORED>\n",
      "SUB                | <IGNORED>\n",
      "MUL                | <IGNORED>\n",
      "SUB                | <IGNORED>\n",
      "ADD                | <IGNORED>\n",
      "DIV                | <IGNORED>\n",
      "DEPTHWISE_CONV_2D  | 28.0\n",
      "MUL                | <IGNORED>\n",
      "SUB                | <IGNORED>\n",
      "DEPTHWISE_CONV_2D  | 28.0\n",
      "MUL                | <IGNORED>\n",
      "MUL                | <IGNORED>\n",
      "MUL                | <IGNORED>\n",
      "ADD                | <IGNORED>\n",
      "------------------------------\n",
      "Total: 129361.5 M FLOPS\n"
     ]
    }
   ],
   "source": [
    "tflite_flops.calc_flops(f'whitebox_cartoon_gan_{HEIGHT}x{WIDTH}_fp16.tflite')"
   ]
  },
  {
   "cell_type": "code",
   "execution_count": null,
   "metadata": {},
   "outputs": [],
   "source": []
  }
 ],
 "metadata": {
  "colab": {
   "collapsed_sections": [],
   "include_colab_link": true,
   "name": "scratchpad",
   "provenance": [],
   "toc_visible": true
  },
  "kernelspec": {
   "display_name": "Python [conda env:bnb3]",
   "language": "python",
   "name": "conda-env-bnb3-py"
  },
  "language_info": {
   "codemirror_mode": {
    "name": "ipython",
    "version": 3
   },
   "file_extension": ".py",
   "mimetype": "text/x-python",
   "name": "python",
   "nbconvert_exporter": "python",
   "pygments_lexer": "ipython3",
   "version": "3.9.16"
  }
 },
 "nbformat": 4,
 "nbformat_minor": 4
}
